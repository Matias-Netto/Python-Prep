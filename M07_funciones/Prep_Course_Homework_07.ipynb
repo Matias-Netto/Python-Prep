{
 "cells": [
  {
   "attachments": {},
   "cell_type": "markdown",
   "metadata": {},
   "source": [
    "## Funciones"
   ]
  },
  {
   "attachments": {},
   "cell_type": "markdown",
   "metadata": {},
   "source": [
    "1) Crear una función que reciba un número como parámetro y devuelva True si es primo y False si no lo es"
   ]
  },
  {
   "cell_type": "code",
   "execution_count": 15,
   "metadata": {},
   "outputs": [
    {
     "data": {
      "text/plain": [
       "False"
      ]
     },
     "execution_count": 15,
     "metadata": {},
     "output_type": "execute_result"
    }
   ],
   "source": [
    "def Primo(x):\n",
    "    Valor = True\n",
    "    for i in range(2, x):\n",
    "        if x%i == 0:\n",
    "            Valor = False\n",
    "            break\n",
    "    return Valor\n",
    "\n",
    "\n",
    "Primo(18)\n"
   ]
  },
  {
   "attachments": {},
   "cell_type": "markdown",
   "metadata": {},
   "source": [
    "2) Utilizando la función del punto 1, realizar otra función que reciba de parámetro una lista de números y devuelva sólo aquellos que son primos en otra lista"
   ]
  },
  {
   "cell_type": "code",
   "execution_count": 16,
   "metadata": {},
   "outputs": [
    {
     "data": {
      "text/plain": [
       "[5, 11, 17]"
      ]
     },
     "execution_count": 16,
     "metadata": {},
     "output_type": "execute_result"
    }
   ],
   "source": [
    "Nros = [5, 8, 11, 15, 17, 18]\n",
    "def Lista(y):\n",
    "    Primos = []\n",
    "    for i in y:\n",
    "        if Primo(i) is True:\n",
    "            Primos.append(i)\n",
    "        else: \n",
    "            continue\n",
    "    return(Primos)\n",
    "\n",
    "Lista(Nros)\n"
   ]
  },
  {
   "attachments": {},
   "cell_type": "markdown",
   "metadata": {},
   "source": [
    "3) Crear una función que al recibir una lista de números, devuelva el que más se repite y cuántas veces lo hace. Si hay más de un \"más repetido\", que devuelva cualquiera"
   ]
  },
  {
   "cell_type": "code",
   "execution_count": 21,
   "metadata": {},
   "outputs": [
    {
     "data": {
      "text/plain": [
       "('El valor ', 15, ' Se repite ', 1, ' Veces.')"
      ]
     },
     "execution_count": 21,
     "metadata": {},
     "output_type": "execute_result"
    }
   ],
   "source": [
    "Valores = [11, 15, 49, 41, 11, 54, 11, 26, 15]\n",
    "\n",
    "def repetido(n):\n",
    "    for i in n: \n",
    "        Lista_unicos = []\n",
    "        Lista_repetidos = []\n",
    "        if i in Lista_unicos: \n",
    "            indice = Lista_unicos.index(i)\n",
    "            Lista_repetidos[i] += 1\n",
    "        else: \n",
    "            Lista_unicos.append(i)\n",
    "            Lista_repetidos.append(1)\n",
    "    Moda = Lista_unicos[0]\n",
    "    Maximo = Lista_repetidos[0]\n",
    "    for elemento, i in enumerate(Lista_unicos):\n",
    "        if Lista_repetidos[elemento] > Maximo:\n",
    "            Moda = Lista_unicos[elemento]\n",
    "            Maximo = Lista_repetidos[elemento]\n",
    "    return \"El valor \", Moda, \" Se repite \", Maximo, \" Veces.\"\n",
    "\n",
    "repetido(Valores)\n",
    "\n",
    "        \n",
    "            \n"
   ]
  },
  {
   "attachments": {},
   "cell_type": "markdown",
   "metadata": {},
   "source": [
    "4) Crear una función que convierta entre grados Celsius, Farenheit y Kelvin<br>\n",
    "Fórmula 1\t: (°C × 9/5) + 32 = °F<br>\n",
    "Fórmula 2\t: °C + 273.15 = °K<br>\n",
    "Debe recibir 3 parámetros: el valor, la medida de orígen y la medida de destino\n"
   ]
  },
  {
   "cell_type": "code",
   "execution_count": null,
   "metadata": {},
   "outputs": [],
   "source": []
  },
  {
   "attachments": {},
   "cell_type": "markdown",
   "metadata": {},
   "source": [
    "5) Iterando una lista con los tres valores posibles de temperatura que recibe la función del punto 5, hacer un print para cada combinación de los mismos:"
   ]
  },
  {
   "cell_type": "code",
   "execution_count": null,
   "metadata": {},
   "outputs": [],
   "source": []
  },
  {
   "attachments": {},
   "cell_type": "markdown",
   "metadata": {},
   "source": [
    "6) Armar una función que devuelva el factorial de un número. Tener en cuenta que el usuario puede equivocarse y enviar de parámetro un número no entero o negativo"
   ]
  },
  {
   "cell_type": "code",
   "execution_count": null,
   "metadata": {},
   "outputs": [],
   "source": []
  }
 ],
 "metadata": {
  "interpreter": {
   "hash": "c85384e4cb51c8b72350f3a8712cc8351fdc3955e32a27f9b60c6242ab125f01"
  },
  "kernelspec": {
   "display_name": "Python 3 (ipykernel)",
   "language": "python",
   "name": "python3"
  },
  "language_info": {
   "codemirror_mode": {
    "name": "ipython",
    "version": 3
   },
   "file_extension": ".py",
   "mimetype": "text/x-python",
   "name": "python",
   "nbconvert_exporter": "python",
   "pygments_lexer": "ipython3",
   "version": "3.12.3"
  }
 },
 "nbformat": 4,
 "nbformat_minor": 4
}
